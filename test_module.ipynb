{
 "cells": [
  {
   "cell_type": "code",
   "execution_count": 1,
   "metadata": {},
   "outputs": [],
   "source": [
    "from player_load import equip, process\n",
    "from engrave import engraving\n",
    "from spec import transcendence,elixer,accessory\n",
    "from arkpassive import load_evolve, load_enlight, load_jump"
   ]
  },
  {
   "cell_type": "code",
   "execution_count": 2,
   "metadata": {},
   "outputs": [],
   "source": [
    "user_info = equip('푸들은귀엽지')\n",
    "user_info.equipment()\n",
    "\n",
    "# api response 기능을 세 번만 사용하도록\n",
    "arm, eng, ark = user_info.equipment()"
   ]
  },
  {
   "cell_type": "code",
   "execution_count": 3,
   "metadata": {},
   "outputs": [],
   "source": [
    "equip_process = process(arm)\n",
    "engrave_process = process(eng)\n",
    "ark_process = process(ark)"
   ]
  },
  {
   "cell_type": "code",
   "execution_count": 4,
   "metadata": {},
   "outputs": [
    {
     "data": {
      "text/plain": [
       "([['풀려난 힘', '5'], ['잠재력 해방', '4'], ['즉각적인 주문', '2']], [['개화', '3']])"
      ]
     },
     "execution_count": 4,
     "metadata": {},
     "output_type": "execute_result"
    }
   ],
   "source": [
    "transcendence(equip_process) # 초월 정보\n",
    "accessory(equip_process) # 악세사리의 특옵 정보\n",
    "elixer(equip_process) # 엘릭서정보\n",
    "engraving(engrave_process) # 각인서 효과를 종합한 정보\n",
    "\n",
    "load_evolve(ark_process).Tier_all() # 진화탭 모든 티어 정보\n",
    "# Tier_1()\n",
    "# Tier_2()\n",
    "# Tier_3()\n",
    "# TIer_4() 가능\n",
    "\n",
    "load_enlight(ark_process).test_enlight() # 깨달음 탭\n",
    "\n",
    "load_jump(ark_process).test_jump() # 도약 탭"
   ]
  },
  {
   "cell_type": "code",
   "execution_count": 5,
   "metadata": {},
   "outputs": [],
   "source": [
    "test_a, test_b = user_info.skill_and_gem()"
   ]
  },
  {
   "cell_type": "code",
   "execution_count": 6,
   "metadata": {},
   "outputs": [
    {
     "data": {
      "text/plain": [
       "[{'마력의 질주': ['기본 공격력 0.80% 증가', '피해 36.00% 증가']},\n",
       " {'마력의 질주': ['기본 공격력 0.80% 증가', '재사용 대기시간 20.00% 감소']},\n",
       " {'마리린': ['기본 공격력 0.80% 증가', '피해 36.00% 증가']},\n",
       " {'슈르디': ['기본 공격력 0.80% 증가', '재사용 대기시간 20.00% 감소']},\n",
       " {'대지 붕괴': ['기본 공격력 0.80% 증가', '피해 36.00% 증가']},\n",
       " {'대지 붕괴': ['기본 공격력 0.80% 증가', '재사용 대기시간 20.00% 감소']},\n",
       " {'물의 정령': ['기본 공격력 0.80% 증가', '재사용 대기시간 20.00% 감소']},\n",
       " {'고대의 창': ['기본 공격력 0.80% 증가', '피해 36.00% 증가']},\n",
       " {'고대의 창': ['기본 공격력 0.80% 증가', '재사용 대기시간 20.00% 감소']},\n",
       " {'전기 폭풍': ['기본 공격력 0.80% 증가', '재사용 대기시간 20.00% 감소']},\n",
       " {'고대의 정령 스킬': ['', '피해 40.00% 증가']}]"
      ]
     },
     "execution_count": 6,
     "metadata": {},
     "output_type": "execute_result"
    }
   ],
   "source": [
    "gem_list = list()\n",
    "for gem in test_b['Effects']['Skills']:\n",
    "    gem_list.append({gem['Name']:[gem['Option'],gem['Description'][0]]})\n",
    "\n",
    "gem_list"
   ]
  },
  {
   "cell_type": "code",
   "execution_count": 41,
   "metadata": {},
   "outputs": [
    {
     "data": {
      "text/plain": [
       "{'마력의 질주': [('폭풍의 질주', 5), ('약점 포착', 5), ('파괴전차', 5)],\n",
       " '끈적이는 이끼늪': [('빠른 준비', 5), ('부식성 확산', 1), ('올가미 이끼늪', 1)],\n",
       " '대지 붕괴': [('화염 붕괴', 5), ('흔들림', 5), ('대지 조작', 5)],\n",
       " '물의 정령': [('마나 회복', 5), ('약점 포착', 5), ('물 대포', 5)],\n",
       " '전기 폭풍': [('재빠른 시전', 5), ('지속력 강화', 5), ('유도 폭풍', 5)],\n",
       " '고대의 창': [('빠른 준비', 5), ('폭열의 창', 5), ('고대의 힘', 5)],\n",
       " '마리린': [('공격력 강화', 5), ('돌진 명령', 5), ('교감', 5)],\n",
       " '슈르디': [('빛의 성장', 5), ('허영이 슈르디', 5), ('마나 회복', 1)]}"
      ]
     },
     "execution_count": 41,
     "metadata": {},
     "output_type": "execute_result"
    }
   ],
   "source": [
    "skillset = [x['Name'] for x in test_a if x['Level']>1]\n",
    "skillset_deep = [{x['Name']:[(y['Name'],y['Level']) for y in x['Tripods'] if y['IsSelected']==True]} for x in test_a if x['Name'] in skillset]\n",
    "skillset_dict = dict()\n",
    "for z in skillset_deep:\n",
    "    z_key = list(z.keys())[0]\n",
    "    z_value = list(z.values())[0]\n",
    "    skillset_dict[z_key]=z_value\n",
    "\n",
    "skillset_dict"
   ]
  },
  {
   "cell_type": "code",
   "execution_count": 37,
   "metadata": {},
   "outputs": [
    {
     "data": {
      "text/plain": [
       "[{'마력의 질주': [('폭풍의 질주', 5), ('약점 포착', 5), ('파괴전차', 5)]},\n",
       " {'끈적이는 이끼늪': [('빠른 준비', 5), ('부식성 확산', 1), ('올가미 이끼늪', 1)]},\n",
       " {'대지 붕괴': [('화염 붕괴', 5), ('흔들림', 5), ('대지 조작', 5)]},\n",
       " {'물의 정령': [('마나 회복', 5), ('약점 포착', 5), ('물 대포', 5)]},\n",
       " {'전기 폭풍': [('재빠른 시전', 5), ('지속력 강화', 5), ('유도 폭풍', 5)]},\n",
       " {'고대의 창': [('빠른 준비', 5), ('폭열의 창', 5), ('고대의 힘', 5)]},\n",
       " {'마리린': [('공격력 강화', 5), ('돌진 명령', 5), ('교감', 5)]},\n",
       " {'슈르디': [('빛의 성장', 5), ('허영이 슈르디', 5), ('마나 회복', 1)]}]"
      ]
     },
     "execution_count": 37,
     "metadata": {},
     "output_type": "execute_result"
    }
   ],
   "source": [
    "skillset_deep"
   ]
  },
  {
   "cell_type": "code",
   "execution_count": null,
   "metadata": {},
   "outputs": [],
   "source": []
  }
 ],
 "metadata": {
  "kernelspec": {
   "display_name": "Python 3",
   "language": "python",
   "name": "python3"
  },
  "language_info": {
   "codemirror_mode": {
    "name": "ipython",
    "version": 3
   },
   "file_extension": ".py",
   "mimetype": "text/x-python",
   "name": "python",
   "nbconvert_exporter": "python",
   "pygments_lexer": "ipython3",
   "version": "3.13.0"
  }
 },
 "nbformat": 4,
 "nbformat_minor": 2
}

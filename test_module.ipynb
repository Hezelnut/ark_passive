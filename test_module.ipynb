{
 "cells": [
  {
   "cell_type": "code",
   "execution_count": 1,
   "metadata": {},
   "outputs": [],
   "source": [
    "from player_load import equip, process\n",
    "from engrave import engraving\n",
    "from spec import transcendence,elixer,accessory, stat\n",
    "from arkpassive import load_evolve, load_enlight, load_jump"
   ]
  },
  {
   "cell_type": "code",
   "execution_count": 2,
   "metadata": {},
   "outputs": [],
   "source": [
    "user_info = equip('절정하는창술누나')\n",
    "user_info.equipment()\n",
    "\n",
    "# api response 기능을 세 번만 사용하도록\n",
    "arm, eng, ark = user_info.equipment()"
   ]
  },
  {
   "cell_type": "code",
   "execution_count": 3,
   "metadata": {},
   "outputs": [],
   "source": [
    "equip_process = process(arm)\n",
    "engrave_process = process(eng)\n",
    "ark_process = process(ark)"
   ]
  },
  {
   "cell_type": "code",
   "execution_count": 4,
   "metadata": {},
   "outputs": [],
   "source": [
    "# transcendence(equip_process) # 초월 정보\n",
    "# accessory(equip_process) # 악세사리의 특옵 정보\n",
    "# elixer(equip_process) # 엘릭서정보\n",
    "# engraving(engrave_process) # 각인서 효과를 종합한 정보\n",
    "\n",
    "# load_evolve(ark_process).Tier_all() # 진화탭 모든 티어 정보\n",
    "# # Tier_1()\n",
    "# # Tier_2()\n",
    "# # Tier_3()\n",
    "# # TIer_4() 가능\n",
    "\n",
    "# load_enlight(ark_process).ark_enlight() # 깨달음 탭\n",
    "\n",
    "# load_jump(ark_process).ark_jump() # 도약 탭"
   ]
  },
  {
   "cell_type": "code",
   "execution_count": 5,
   "metadata": {},
   "outputs": [
    {
     "data": {
      "text/plain": [
       "{'피해 증가': [1.2],\n",
       " '추가 피해': [],\n",
       " '공격력 증가 (%)': [0.95],\n",
       " '공격력 증가 (+)': [195, 80],\n",
       " '무기공격력 증가 (%)': [1.8],\n",
       " '무기공격력 증가 (+)': [195, 195],\n",
       " '스탯 증가 (%)': [],\n",
       " '스탯 증가 (+)': [],\n",
       " '치명타 적중률 증가': [0.4],\n",
       " '치명타 피해 증가': [2.4, 2.4],\n",
       " '치명타 시 피해 증가': [],\n",
       " '백어택': [],\n",
       " '헤드어택': [],\n",
       " '캐스팅': [],\n",
       " '차징': [],\n",
       " '쿨타임 감소': [],\n",
       " '진화형 피해': [],\n",
       " '물리 방어력': [],\n",
       " '마법 방어력': [],\n",
       " '최대 생명력': [3250, 1300, 3250]}"
      ]
     },
     "execution_count": 5,
     "metadata": {},
     "output_type": "execute_result"
    }
   ],
   "source": [
    "accessory(equip_process)"
   ]
  },
  {
   "cell_type": "code",
   "execution_count": 6,
   "metadata": {},
   "outputs": [
    {
     "data": {
      "text/plain": [
       "{'피해 증가': [],\n",
       " '추가 피해': [],\n",
       " '공격력 증가 (%)': [],\n",
       " '공격력 증가 (+)': [],\n",
       " '무기공격력 증가 (%)': [],\n",
       " '무기공격력 증가 (+)': [110614],\n",
       " '스탯 증가 (%)': [],\n",
       " '스탯 증가 (+)': [56259, 46444, 50175, 69665, 59875],\n",
       " '치명타 적중률 증가': [],\n",
       " '치명타 피해 증가': [],\n",
       " '치명타 시 피해 증가': [],\n",
       " '백어택': [],\n",
       " '헤드어택': [],\n",
       " '캐스팅': [],\n",
       " '차징': [],\n",
       " '쿨타임 감소': [],\n",
       " '진화형 피해': [],\n",
       " '물리 방어력': [6910, 9364, 8584, 6243, 7678],\n",
       " '마법 방어력': [7678, 8584, 9364, 6243, 6910],\n",
       " '최대 생명력': []}"
      ]
     },
     "execution_count": 6,
     "metadata": {},
     "output_type": "execute_result"
    }
   ],
   "source": [
    "stat(equip_process)"
   ]
  },
  {
   "cell_type": "code",
   "execution_count": 7,
   "metadata": {},
   "outputs": [
    {
     "data": {
      "text/plain": [
       "({'피해 증가': [1.015],\n",
       "  '추가 피해': [],\n",
       "  '공격력 증가 (%)': [],\n",
       "  '공격력 증가 (+)': [756, 3525],\n",
       "  '무기공격력 증가 (%)': [],\n",
       "  '무기공격력 증가 (+)': [2940, 1764, 3600, 7200],\n",
       "  '스탯 증가 (%)': [],\n",
       "  '스탯 증가 (+)': [5880, 5880, 5880, 5880, 5880, 6930, 12600],\n",
       "  '치명타 적중률 증가': [],\n",
       "  '치명타 피해 증가': [],\n",
       "  '치명타 시 피해 증가': [],\n",
       "  '백어택': [],\n",
       "  '헤드어택': [],\n",
       "  '캐스팅': [],\n",
       "  '차징': [],\n",
       "  '쿨타임 감소': [],\n",
       "  '진화형 피해': [],\n",
       "  '물리 방어력': [1800],\n",
       "  '마법 방어력': [1800],\n",
       "  '최대 생명력': [10080, 1400]},\n",
       " ['7단계 21', '7단계 21', '7단계 21', '7단계 21', '7단계 21', '7단계 21', '총 126'])"
      ]
     },
     "execution_count": 7,
     "metadata": {},
     "output_type": "execute_result"
    }
   ],
   "source": [
    "transcendence(equip_process)"
   ]
  },
  {
   "cell_type": "code",
   "execution_count": 8,
   "metadata": {},
   "outputs": [
    {
     "data": {
      "text/plain": [
       "{'피해 증가': [1.44, 2.4],\n",
       " '추가 피해': [3.1],\n",
       " '공격력 증가 (%)': [1.44],\n",
       " '공격력 증가 (+)': [767, 767],\n",
       " '무기공격력 증가 (%)': [],\n",
       " '무기공격력 증가 (+)': [1480, 1480],\n",
       " '스탯 증가 (%)': [],\n",
       " '스탯 증가 (+)': [],\n",
       " '치명타 적중률 증가': [],\n",
       " '치명타 피해 증가': [],\n",
       " '치명타 시 피해 증가': [1.12],\n",
       " '백어택': [],\n",
       " '헤드어택': [],\n",
       " '캐스팅': [],\n",
       " '차징': [],\n",
       " '쿨타임 감소': [],\n",
       " '진화형 피해': [],\n",
       " '물리 방어력': [],\n",
       " '마법 방어력': [],\n",
       " '최대 생명력': [17000]}"
      ]
     },
     "execution_count": 8,
     "metadata": {},
     "output_type": "execute_result"
    }
   ],
   "source": [
    "elixer(equip_process)"
   ]
  },
  {
   "cell_type": "code",
   "execution_count": 9,
   "metadata": {},
   "outputs": [],
   "source": [
    "form = {'피해 증가':[],\n",
    "        '추가 피해':[],\n",
    "        '공격력 증가 (%)':[],\n",
    "        '공격력 증가 (+)':[],\n",
    "        '무기공격력 증가 (%)':[],\n",
    "        '무기공격력 증가 (+)':[],\n",
    "        '스탯 증가 (%)':[],\n",
    "        '스탯 증가 (+)':[],\n",
    "        '치명타 적중률 증가':[],\n",
    "        '치명타 피해 증가':[],\n",
    "        '치명타 시 피해 증가':[],\n",
    "        '백어택':[],\n",
    "        '헤드어택':[],\n",
    "        '캐스팅':[],\n",
    "        '차징':[],\n",
    "        '쿨타임 감소':[],\n",
    "        '진화형 피해':[],\n",
    "        '물리 방어력':[],\n",
    "        '마법 방어력':[],\n",
    "        '최대 생명력':[],\n",
    "        }"
   ]
  },
  {
   "cell_type": "code",
   "execution_count": 10,
   "metadata": {},
   "outputs": [
    {
     "data": {
      "text/plain": [
       "({'치명': 69, '신속': 572, '특화': 1570},\n",
       " {'진화형 피해': [5],\n",
       "  '쿨타임 감소_마나': [14],\n",
       "  '쿨타임 감소_지배': [4],\n",
       "  '백헤드 스킬 치명타 피해 증가': [],\n",
       "  '치명타 적중률 증가': [0]},\n",
       " {'진화형 피해': [16, 0, 0, 0],\n",
       "  '쿨타임 감소_마나': [14],\n",
       "  '쿨타임 감소_지배': [0],\n",
       "  '백헤드 스킬 치명타 피해 증가': [0],\n",
       "  '치명타 적중률 증가': [0, 0]},\n",
       " {'진화형 피해': [0.0], '뭉툭한 가시': [True], '마나 용광로': [False], '음속 돌파': [False]})"
      ]
     },
     "execution_count": 10,
     "metadata": {},
     "output_type": "execute_result"
    }
   ],
   "source": [
    "load_evolve(ark_process).Tier_all()"
   ]
  },
  {
   "cell_type": "code",
   "execution_count": 11,
   "metadata": {},
   "outputs": [
    {
     "data": {
      "text/plain": [
       "([['절정 I', '3']],\n",
       " [['절정 II', '3']],\n",
       " [['절정 III', '3']],\n",
       " [['연가표식', '1'], ['연가심공', '3']])"
      ]
     },
     "execution_count": 11,
     "metadata": {},
     "output_type": "execute_result"
    }
   ],
   "source": [
    "load_enlight(ark_process).ark_enlight()"
   ]
  },
  {
   "cell_type": "code",
   "execution_count": 12,
   "metadata": {},
   "outputs": [
    {
     "data": {
      "text/plain": [
       "([['초월적인 힘', '5'], ['풀려난 힘', '5']], [['관통 필살', '3']])"
      ]
     },
     "execution_count": 12,
     "metadata": {},
     "output_type": "execute_result"
    }
   ],
   "source": [
    "load_jump(ark_process).ark_jump()"
   ]
  },
  {
   "cell_type": "code",
   "execution_count": null,
   "metadata": {},
   "outputs": [],
   "source": []
  }
 ],
 "metadata": {
  "kernelspec": {
   "display_name": "Python 3",
   "language": "python",
   "name": "python3"
  },
  "language_info": {
   "codemirror_mode": {
    "name": "ipython",
    "version": 3
   },
   "file_extension": ".py",
   "mimetype": "text/x-python",
   "name": "python",
   "nbconvert_exporter": "python",
   "pygments_lexer": "ipython3",
   "version": "3.13.0"
  }
 },
 "nbformat": 4,
 "nbformat_minor": 2
}

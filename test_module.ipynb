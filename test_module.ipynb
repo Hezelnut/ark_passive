{
 "cells": [
  {
   "cell_type": "code",
   "execution_count": 1,
   "metadata": {},
   "outputs": [],
   "source": [
    "from player_load import all_equip\n",
    "\n",
    "user_info = all_equip('그늘을벼려낸칼날')"
   ]
  },
  {
   "cell_type": "code",
   "execution_count": 3,
   "metadata": {},
   "outputs": [
    {
     "data": {
      "text/plain": [
       "[('원한', 0, None),\n",
       " ('질량 증가', 4, 3),\n",
       " ('안정된 상태', 4, None),\n",
       " ('돌격대장', 0, 2),\n",
       " ('예리한 둔기', 0, None)]"
      ]
     },
     "execution_count": 3,
     "metadata": {},
     "output_type": "execute_result"
    }
   ],
   "source": [
    "user_info.equip_engraving()"
   ]
  },
  {
   "cell_type": "code",
   "execution_count": 4,
   "metadata": {},
   "outputs": [
    {
     "data": {
      "text/plain": [
       "({'crit': 30, 'vel': 10, 'abl': 0},\n",
       " {'t2_1': 2, 't2_2': 0, 't2_3': 0, 't2_4': 1, 't2_5': 0},\n",
       " {'t3_1': 0, 't3_2': 2, 't3_3': 0, 't3_4': 0, 't3_5': 0},\n",
       " {'t4_1': 0, 't4_2': 0, 't4_3': 0, 't4_4': 2, 't4_5': 0})"
      ]
     },
     "execution_count": 4,
     "metadata": {},
     "output_type": "execute_result"
    }
   ],
   "source": [
    "user_info.equip_arkpassive()"
   ]
  },
  {
   "cell_type": "code",
   "execution_count": 7,
   "metadata": {},
   "outputs": [
    {
     "data": {
      "text/plain": [
       "{'피해 증가': [1.18, 1.2425, 1.17, 1.1976, 0.98],\n",
       " '공격력 증가 (%)': [],\n",
       " '공격력 증가 (+)': [],\n",
       " '무기공격력 증가 (%)': [],\n",
       " '무기공격력 증가 (+)': [],\n",
       " '치명타 적중률 증가': [],\n",
       " '치명타 피해 증가': [44],\n",
       " '치명타 시 피해 증가': [],\n",
       " '백어택': [],\n",
       " '헤드어택': [],\n",
       " '캐스팅': [],\n",
       " '차징': [],\n",
       " '쿨타임 감소': [],\n",
       " '진화형 피해': []}"
      ]
     },
     "execution_count": 7,
     "metadata": {},
     "output_type": "execute_result"
    }
   ],
   "source": [
    "import engrave\n",
    "engrave.engraving(user_info)"
   ]
  },
  {
   "cell_type": "code",
   "execution_count": 8,
   "metadata": {},
   "outputs": [
    {
     "data": {
      "text/plain": [
       "['추가피해+1.60%', '무기공격력+1.80%', '공격력+0.95%', '치명타적중률+0.95%', '치명타피해+2.40%']"
      ]
     },
     "execution_count": 8,
     "metadata": {},
     "output_type": "execute_result"
    }
   ],
   "source": [
    "import spec\n",
    "spec.accessory(user_info)"
   ]
  },
  {
   "cell_type": "code",
   "execution_count": 10,
   "metadata": {},
   "outputs": [
    {
     "ename": "KeyError",
     "evalue": "0",
     "output_type": "error",
     "traceback": [
      "\u001b[1;31m---------------------------------------------------------------------------\u001b[0m",
      "\u001b[1;31mKeyError\u001b[0m                                  Traceback (most recent call last)",
      "Cell \u001b[1;32mIn[10], line 4\u001b[0m\n\u001b[0;32m      1\u001b[0m \u001b[38;5;28;01mimport\u001b[39;00m \u001b[38;5;21;01markpassive\u001b[39;00m\n\u001b[0;32m      2\u001b[0m ark \u001b[38;5;241m=\u001b[39m user_info\u001b[38;5;241m.\u001b[39mequip_arkpassive()\n\u001b[1;32m----> 4\u001b[0m arkpassive\u001b[38;5;241m.\u001b[39mTier_1(ark[\u001b[38;5;241m0\u001b[39m]), \u001b[43markpassive\u001b[49m\u001b[38;5;241;43m.\u001b[39;49m\u001b[43mTier_2\u001b[49m\u001b[43m(\u001b[49m\u001b[43mark\u001b[49m\u001b[43m[\u001b[49m\u001b[38;5;241;43m1\u001b[39;49m\u001b[43m]\u001b[49m\u001b[43m)\u001b[49m, arkpassive\u001b[38;5;241m.\u001b[39mTier_3(ark[\u001b[38;5;241m2\u001b[39m]), arkpassive\u001b[38;5;241m.\u001b[39mTier_4(ark[\u001b[38;5;241m3\u001b[39m])\n",
      "File \u001b[1;32mc:\\Users\\승보\\Documents\\code\\arkpassive.py:9\u001b[0m, in \u001b[0;36mTier_2\u001b[1;34m(t2)\u001b[0m\n\u001b[0;32m      8\u001b[0m \u001b[38;5;28;01mdef\u001b[39;00m \u001b[38;5;21mTier_2\u001b[39m(t2):\n\u001b[1;32m----> 9\u001b[0m     t2_1 \u001b[38;5;241m=\u001b[39m \u001b[43mt2\u001b[49m\u001b[43m[\u001b[49m\u001b[38;5;241;43m0\u001b[39;49m\u001b[43m]\u001b[49m\n\u001b[0;32m     10\u001b[0m     t2_2 \u001b[38;5;241m=\u001b[39m t2[\u001b[38;5;241m1\u001b[39m]\n\u001b[0;32m     11\u001b[0m     t2_3 \u001b[38;5;241m=\u001b[39m t2[\u001b[38;5;241m2\u001b[39m]\n",
      "\u001b[1;31mKeyError\u001b[0m: 0"
     ]
    }
   ],
   "source": [
    "import arkpassive\n",
    "ark = user_info.equip_arkpassive()\n",
    "\n",
    "arkpassive.Tier_1(ark[0]), arkpassive.Tier_2(ark[1]), arkpassive.Tier_3(ark[2]), arkpassive.Tier_4(ark[3])"
   ]
  },
  {
   "cell_type": "code",
   "execution_count": null,
   "metadata": {},
   "outputs": [],
   "source": []
  }
 ],
 "metadata": {
  "kernelspec": {
   "display_name": "Python 3",
   "language": "python",
   "name": "python3"
  },
  "language_info": {
   "codemirror_mode": {
    "name": "ipython",
    "version": 3
   },
   "file_extension": ".py",
   "mimetype": "text/x-python",
   "name": "python",
   "nbconvert_exporter": "python",
   "pygments_lexer": "ipython3",
   "version": "3.12.4"
  }
 },
 "nbformat": 4,
 "nbformat_minor": 2
}

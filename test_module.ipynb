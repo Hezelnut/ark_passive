{
 "cells": [
  {
   "cell_type": "code",
   "execution_count": 1,
   "metadata": {},
   "outputs": [],
   "source": [
    "from player_load import equip, process\n",
    "from engrave import engraving\n",
    "from spec import transcendence,elixer,accessory\n",
    "from arkpassive import load_arkpassive"
   ]
  },
  {
   "cell_type": "code",
   "execution_count": 2,
   "metadata": {},
   "outputs": [],
   "source": [
    "user_info = equip('절정하는창술누나')\n",
    "user_info.equipment()\n",
    "\n",
    "arm, eng, ark = user_info.equipment()"
   ]
  },
  {
   "cell_type": "code",
   "execution_count": 3,
   "metadata": {},
   "outputs": [
    {
     "data": {
      "text/plain": [
       "({'crit': 0, 'vel': 10, 'abl': 30},\n",
       " {'t2_1': 2, 't2_2': 0, 't2_3': 0, 't2_4': 0, 't2_5': 1},\n",
       " {'t3_1': 2, 't3_2': 0, 't3_3': 0, 't3_4': 0, 't3_5': 0},\n",
       " {'t4_1': 2, 't4_2': 0, 't4_3': 0, 't4_4': 0, 't4_5': 0})"
      ]
     },
     "execution_count": 3,
     "metadata": {},
     "output_type": "execute_result"
    }
   ],
   "source": [
    "process(ark).equip_arkpassive()"
   ]
  },
  {
   "cell_type": "code",
   "execution_count": 4,
   "metadata": {},
   "outputs": [],
   "source": [
    "equip_process = process(arm)\n",
    "engrave_process = process(eng)\n",
    "ark_process = process(ark)"
   ]
  },
  {
   "cell_type": "code",
   "execution_count": 5,
   "metadata": {},
   "outputs": [
    {
     "data": {
      "text/plain": [
       "([('힘+5880', '7단계 21'),\n",
       "  ('힘+5880', '7단계 21'),\n",
       "  ('힘+5880', '7단계 21'),\n",
       "  ('힘+5880', '7단계 21'),\n",
       "  ('힘+5880', '7단계 21'),\n",
       "  ('무기공격력+2940', '7단계 21')],\n",
       " ['적에게주는피해+1.20%',\n",
       "  '무기공격력+1.80%',\n",
       "  '공격력+0.95%',\n",
       "  '치명타피해+2.40%',\n",
       "  '치명타피해+2.40%',\n",
       "  '치명타적중률+0.40%'],\n",
       " ['회심(질서)lv.5', '공격력lv.3', '공격력lv.2', '회심(혼돈)lv.5'])"
      ]
     },
     "execution_count": 5,
     "metadata": {},
     "output_type": "execute_result"
    }
   ],
   "source": [
    "transcendence(equip_process), accessory(equip_process), elixer(equip_process)"
   ]
  },
  {
   "cell_type": "code",
   "execution_count": 6,
   "metadata": {},
   "outputs": [
    {
     "data": {
      "text/plain": [
       "{'피해 증가': [1.18, 1.17, 1.25, 1.16, 1.17],\n",
       " '공격력 증가 (%)': [],\n",
       " '공격력 증가 (+)': [],\n",
       " '무기공격력 증가 (%)': [],\n",
       " '무기공격력 증가 (+)': [],\n",
       " '치명타 적중률 증가': [],\n",
       " '치명타 피해 증가': [],\n",
       " '치명타 시 피해 증가': [],\n",
       " '백어택': [],\n",
       " '헤드어택': [],\n",
       " '캐스팅': [],\n",
       " '차징': [],\n",
       " '쿨타임 감소': [],\n",
       " '진화형 피해': []}"
      ]
     },
     "execution_count": 6,
     "metadata": {},
     "output_type": "execute_result"
    }
   ],
   "source": [
    "engraving(engrave_process)"
   ]
  },
  {
   "cell_type": "code",
   "execution_count": 7,
   "metadata": {},
   "outputs": [
    {
     "data": {
      "text/plain": [
       "({'crit': 69, 'vel': 572, 'abl': 1570},\n",
       " {'진화형 피해': [5],\n",
       "  '쿨타임 감소_마나': [14],\n",
       "  '쿨타임 감소_지배': [4],\n",
       "  '백헤드 스킬 치명타 피해 증가': [],\n",
       "  '치명타 적중률 증가': [0]},\n",
       " {'진화형 피해': [16, 0, 0, 0],\n",
       "  '쿨타임 감소_마나': [14],\n",
       "  '쿨타임 감소_지배': [0],\n",
       "  '백헤드 스킬 치명타 피해 증가': [0],\n",
       "  '치명타 적중률 증가': [0, 0]},\n",
       " {'진화형 피해': [0.0], '뭉툭한 가시': [True], '마나 용광로': [False], '음속 돌파': [False]})"
      ]
     },
     "execution_count": 7,
     "metadata": {},
     "output_type": "execute_result"
    }
   ],
   "source": [
    "load_ark = load_arkpassive(ark_process)\n",
    "load_ark.Tier_all()"
   ]
  },
  {
   "cell_type": "code",
   "execution_count": null,
   "metadata": {},
   "outputs": [],
   "source": []
  }
 ],
 "metadata": {
  "kernelspec": {
   "display_name": "Python 3",
   "language": "python",
   "name": "python3"
  },
  "language_info": {
   "codemirror_mode": {
    "name": "ipython",
    "version": 3
   },
   "file_extension": ".py",
   "mimetype": "text/x-python",
   "name": "python",
   "nbconvert_exporter": "python",
   "pygments_lexer": "ipython3",
   "version": "3.13.0"
  }
 },
 "nbformat": 4,
 "nbformat_minor": 2
}

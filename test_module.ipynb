{
 "cells": [
  {
   "cell_type": "code",
   "execution_count": 11,
   "metadata": {},
   "outputs": [],
   "source": [
    "from player_load import equip\n",
    "from engrave import engraving\n",
    "from spec import *\n",
    "from arkpassive import load_arkpassive\n",
    "import math\n"
   ]
  },
  {
   "cell_type": "code",
   "execution_count": 2,
   "metadata": {},
   "outputs": [],
   "source": [
    "user_info = equip('그늘을벼려낸칼날')\n",
    "user_info_equipment = user_info.equipment()\n",
    "\n",
    "# api response 기능을 6번만 사용하도록\n",
    "# arm, eng, ark, skill, gem, profile = user_info.equipment()"
   ]
  },
  {
   "cell_type": "code",
   "execution_count": 3,
   "metadata": {},
   "outputs": [],
   "source": [
    "ap = load_arkpassive(user_info_equipment)"
   ]
  },
  {
   "cell_type": "code",
   "execution_count": 4,
   "metadata": {},
   "outputs": [
    {
     "data": {
      "text/plain": [
       "({'치명': 1569, '신속': 572, '특화': 70},\n",
       " {'진화형 피해': [5],\n",
       "  '쿨타임 감소_마나': [14],\n",
       "  '쿨타임 감소_지배': [0],\n",
       "  '백헤드 스킬 치명타 피해 증가': [],\n",
       "  '치명타 적중률 증가': [4]},\n",
       " {'진화형 피해': [0, 4, 0, 0],\n",
       "  '쿨타임 감소_마나': [0],\n",
       "  '쿨타임 감소_지배': [0],\n",
       "  '백헤드 스킬 치명타 피해 증가': [0],\n",
       "  '치명타 적중률 증가': [24, 0]},\n",
       " {'진화형 피해': [0.0], '뭉툭한 가시': [True], '마나 용광로': [False], '음속 돌파': [False]})"
      ]
     },
     "execution_count": 4,
     "metadata": {},
     "output_type": "execute_result"
    }
   ],
   "source": [
    "ap.evolve_all()"
   ]
  },
  {
   "cell_type": "code",
   "execution_count": 14,
   "metadata": {},
   "outputs": [
    {
     "data": {
      "text/plain": [
       "([['그믐의 경계', '3']],\n",
       " [['죽음 연마', '3']],\n",
       " [['허물어진 경계', '3'], ['영혼 강화', '1']],\n",
       " [['영혼 참수', '3']])"
      ]
     },
     "execution_count": 14,
     "metadata": {},
     "output_type": "execute_result"
    }
   ],
   "source": [
    "ap.ark_enlight()"
   ]
  },
  {
   "cell_type": "code",
   "execution_count": 15,
   "metadata": {},
   "outputs": [
    {
     "data": {
      "text/plain": [
       "([['풀려난 힘', '5'], ['잠재력 해방', '5']], [['심판', '3']])"
      ]
     },
     "execution_count": 15,
     "metadata": {},
     "output_type": "execute_result"
    }
   ],
   "source": [
    "ap.ark_jump()"
   ]
  },
  {
   "cell_type": "code",
   "execution_count": 9,
   "metadata": {},
   "outputs": [],
   "source": [
    "def stat_all(user_name='절정하는창술누나'):\n",
    "    user_info = equip(user_name)\n",
    "    user_info_equipment = user_info.equipment()\n",
    "\n",
    "    form = {'피해 증가':[], \n",
    "        '추가 피해':[],\n",
    "        '공격력 증가 (%)':[],\n",
    "        '공격력 증가 (+)':[],\n",
    "        '기본 공격력 증가 (%)':[],\n",
    "        '무기공격력 증가 (%)':[],\n",
    "        '무기공격력 증가 (+)':[],\n",
    "        '스탯 증가 (%)':[],\n",
    "        '스탯 증가 (+)':[],\n",
    "        '치명타 적중률 증가':[],\n",
    "        '치명타 피해 증가':[],\n",
    "        '치명타 시 피해 증가':[],\n",
    "        '백어택':[],\n",
    "        '헤드어택':[],        \n",
    "        '비방향성':[],\n",
    "        '캐스팅':[],\n",
    "        '차징':[],\n",
    "        '쿨타임 감소':[],\n",
    "        '진화형 피해':[],\n",
    "        '물리 방어력':[],\n",
    "        '마법 방어력':[],\n",
    "        '체력':[],\n",
    "        '최대 생명력':[],\n",
    "        '생명력 활성':[]\n",
    "        }\n",
    "    \n",
    "    sum_stat = stat(user_info_equipment)\n",
    "    sum_acc = accessory(user_info_equipment)\n",
    "    sum_eli = elixer(user_info_equipment)\n",
    "    sum_tra, _ = transcendence(user_info_equipment)\n",
    "    sum_eng = engraving(user_info_equipment)\n",
    "    # sum_arm = armlet(equip_process)\n",
    "    # load_enlight(ark_process).ark_enlight()\n",
    "    # load_evolve(ark_process).Tier_all()\n",
    "    # load_jump(ark_process).ark_jump()\n",
    "\n",
    "    list_sum = [sum_tra,sum_acc,sum_eli,sum_eng,sum_stat]\n",
    "    for l in list_sum:\n",
    "        for k in list(form.keys()):\n",
    "            form[k].extend(l[k])\n",
    "\n",
    "    form_output = dict()\n",
    "    form_a = math.prod(form['피해 증가'])\n",
    "    form_output['피해 증가'] = form_a\n",
    "\n",
    "    for m in form.keys():\n",
    "        if m != '피해 증가':\n",
    "            form_output[m] = sum(form[m])\n",
    "    \n",
    "    _, _, _, _, _, profile = user_info_equipment\n",
    "    stat_api = profile['Stats']\n",
    "    for s in stat_api:\n",
    "        if s['Type'] in ['공격력','최대 생명력']:\n",
    "            print(s['Type'],' : ',s['Value'])\n",
    "\n",
    "    return form_output\n",
    "\n",
    "\n",
    "def skill_data(user_name='절정하는창술누나'):\n",
    "    user_info = equip(user_name)\n",
    "    user_info_equipment = user_info.equipment()\n",
    "    skill_df = skill_tripod(user_info_equipment)\n",
    "    gem_df = gem_info(user_info_equipment)\n",
    "\n",
    "    print(\"gem_df, skill_df\")\n",
    "\n",
    "    return gem_df, skill_df"
   ]
  },
  {
   "cell_type": "code",
   "execution_count": 12,
   "metadata": {},
   "outputs": [
    {
     "name": "stdout",
     "output_type": "stream",
     "text": [
      "최대 생명력  :  338418\n",
      "공격력  :  119699\n"
     ]
    },
    {
     "data": {
      "text/plain": [
       "{'피해 증가': 2.499064613364282,\n",
       " '추가 피해': 33.1,\n",
       " '공격력 증가 (%)': 2.3899999999999997,\n",
       " '공격력 증가 (+)': 6090,\n",
       " '기본 공격력 증가 (%)': 1.095,\n",
       " '무기공격력 증가 (%)': 1.8,\n",
       " '무기공격력 증가 (+)': 129468,\n",
       " '스탯 증가 (%)': 0,\n",
       " '스탯 증가 (+)': 396000,\n",
       " '치명타 적중률 증가': 0.4,\n",
       " '치명타 피해 증가': 4.8,\n",
       " '치명타 시 피해 증가': 1.12,\n",
       " '백어택': 0,\n",
       " '헤드어택': 0,\n",
       " '비방향성': 0,\n",
       " '캐스팅': 0,\n",
       " '차징': 0,\n",
       " '쿨타임 감소': 0,\n",
       " '진화형 피해': 0,\n",
       " '물리 방어력': 40579,\n",
       " '마법 방어력': 40579,\n",
       " '체력': 76555,\n",
       " '최대 생명력': 34880,\n",
       " '생명력 활성': 1.4942142857142857}"
      ]
     },
     "execution_count": 12,
     "metadata": {},
     "output_type": "execute_result"
    }
   ],
   "source": [
    "stat_all()"
   ]
  },
  {
   "cell_type": "code",
   "execution_count": 13,
   "metadata": {},
   "outputs": [
    {
     "name": "stdout",
     "output_type": "stream",
     "text": [
      "gem_df, skill_df\n"
     ]
    },
    {
     "data": {
      "text/plain": [
       "(   Skill_name          gem_effect\n",
       " 0         적룡포        피해 40.00% 증가\n",
       " 1         적룡포  재사용 대기시간 20.00% 감소\n",
       " 2         청룡진  재사용 대기시간 20.00% 감소\n",
       " 3        사두룡격        피해 36.00% 증가\n",
       " 4         반월섬        피해 36.00% 증가\n",
       " 5        유성강천        피해 36.00% 증가\n",
       " 6        유성강천  재사용 대기시간 20.00% 감소\n",
       " 7        맹룡열파        피해 36.00% 증가\n",
       " 8        맹룡열파  재사용 대기시간 20.00% 감소\n",
       " 9         굉열파        피해 36.00% 증가\n",
       " 10        굉열파  재사용 대기시간 20.00% 감소,\n",
       "    Skill_name   Tripod Tripod_level  \\\n",
       " 0         연환섬       급습          1레벨   \n",
       " 1         일섬각  탁월한 기동성          5레벨   \n",
       " 2         철량추  탁월한 기동성          1레벨   \n",
       " 3         반월섬    약점 포착          5레벨   \n",
       " 4         반월섬    급소 타격          5레벨   \n",
       " 5         반월섬    강풍 베기          5레벨   \n",
       " 6        맹룡열파    급소 타격          5레벨   \n",
       " 7        맹룡열파    추가 베기          5레벨   \n",
       " 8        맹룡열파       각성          5레벨   \n",
       " 9         회선창      뇌진탕          1레벨   \n",
       " 10        풍진격    약점 공략          1레벨   \n",
       " 11        청룡진    약점 공략          1레벨   \n",
       " 12        청룡진    집중 공략          1레벨   \n",
       " 13        청룡진    빠른 준비          5레벨   \n",
       " 14        나선창    어깨 치기          1레벨   \n",
       " 15       사두룡격    급소 타격          5레벨   \n",
       " 16       사두룡격  그림자 찌르기          5레벨   \n",
       " 17       사두룡격    약점 포착          5레벨   \n",
       " 18        굉열파  재빠른 손놀림          5레벨   \n",
       " 19        굉열파   파괴하는 창          5레벨   \n",
       " 20        굉열파      공파섬          5레벨   \n",
       " 21       유성강천    약점 포착          5레벨   \n",
       " 22       유성강천    화력 조절          5레벨   \n",
       " 23       유성강천  강력한 마무리          5레벨   \n",
       " 24        적룡포    반응 속도          1레벨   \n",
       " 25        적룡포   파괴하는 창          5레벨   \n",
       " 26        적룡포    약점 포착          5레벨   \n",
       " \n",
       "                                         Tripod_effect  \n",
       " 0   즉시 6.0m 가량 전진하며 1회 베는 공격을 가한다. 이동 중 경직에 면역이 되며...  \n",
       " 1                                이동 거리가 최대 4.0m 증가한다.  \n",
       " 2                               전방으로 이동거리가 3.0m 증가한다.  \n",
       " 3             피격이상 면역인 적에게 공격 적중 시 주는 피해가 45.0% 증가한다.  \n",
       " 4                                치명타 적중률이 60.0% 증가한다.  \n",
       " 5   올려칠 때 회오리를 일으켜 적에게 기본 피해량의 80.0%피해를 준다. 풍압 올려치...  \n",
       " 6                                치명타 적중률이 40.0% 증가한다.  \n",
       " 7   콤보 조작으로 변경된다. 창을 휘두른 이후 추가 키 입력 시 전방으로 4.0m가량 ...  \n",
       " 8   창을 휘두르면 휘두르는 궤적에 용이 나타나 3회 다단히트 공격을 가하여 적에게 주는...  \n",
       " 9                           스킬의 무력화 단계가 [중상] 으로 증가한다.  \n",
       " 10  공격에 적중된 적은 10.0초 동안 자신 및 파티원의 치명타 공격에 받는 피해가 8...  \n",
       " 11  공격에 적중된 적은 16.0초 동안 자신 및 파티원의 치명타 공격에 받는 피해가 8...  \n",
       " 12  공격 범위가 <FONT COLOR='#ff9999'>20.0% 감소하고 즉시 창을 ...  \n",
       " 13                              재사용 대기시간이 11.0초 감소한다.  \n",
       " 14  콤보 조작으로 변경된다. 전방으로 5.0m 이동하며 어깨치기를 하여 기본 피해량의 ...  \n",
       " 15                               치명타 적중률이 40.0% 증가한다.  \n",
       " 16  1회 찌른 후 이동이 가능하며, 잔상이 남아 찌르기를 계속 이어간다. 치명타 적중률...  \n",
       " 17            피격이상 면역인 적에게 공격 적중 시 주는 피해가 94.8% 증가한다.  \n",
       " 18                                 공격 속도가 36.0% 증가한다.  \n",
       " 19            치명타 적중률이 60.0% 증가하며 치명타 피해가 60.0% 증가한다.  \n",
       " 20  차지 조작으로 변경되며, 차지 완료 시 적에게 주는 피해가 83.0% 증가하고 치명...  \n",
       " 21            피격이상 면역인 적에게 공격 적중 시 주는 피해가 45.0% 증가한다.  \n",
       " 22              공격이 적중할 때 마다 회복하는 듀얼 게이지가 75.0% 증가한다.  \n",
       " 23  더욱 빠르게 뛰고 강하게 내려찍어 피격이상 면역인 적에게 공격 적중 시 치명타 적중...  \n",
       " 24                            홀딩 또는 차지속도가 30.0% 빨라진다.  \n",
       " 25  창을 찌르는 공격의 폭이 <FONT COLOR='#ff9999'>50.0% 좁아지지...  \n",
       " 26                네임드 등급 이상의 몬스터에게 주는 피해가 96.0% 증가한다.  )"
      ]
     },
     "execution_count": 13,
     "metadata": {},
     "output_type": "execute_result"
    }
   ],
   "source": [
    "skill_data()"
   ]
  },
  {
   "cell_type": "markdown",
   "metadata": {},
   "source": [
    "- 로아 피통계산법 (체력*체력계수+최생)*생명활성*(펫효과+만찬추가생명력)"
   ]
  },
  {
   "cell_type": "code",
   "execution_count": null,
   "metadata": {},
   "outputs": [],
   "source": []
  }
 ],
 "metadata": {
  "kernelspec": {
   "display_name": "Python 3",
   "language": "python",
   "name": "python3"
  },
  "language_info": {
   "codemirror_mode": {
    "name": "ipython",
    "version": 3
   },
   "file_extension": ".py",
   "mimetype": "text/x-python",
   "name": "python",
   "nbconvert_exporter": "python",
   "pygments_lexer": "ipython3",
   "version": "3.13.0"
  }
 },
 "nbformat": 4,
 "nbformat_minor": 2
}

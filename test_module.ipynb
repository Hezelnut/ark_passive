{
 "cells": [
  {
   "cell_type": "code",
   "execution_count": 1,
   "metadata": {},
   "outputs": [],
   "source": [
    "from player_load import all_equip\n",
    "\n",
    "user_info = all_equip('그늘을벼려낸칼날')"
   ]
  },
  {
   "cell_type": "code",
   "execution_count": 2,
   "metadata": {},
   "outputs": [
    {
     "data": {
      "text/plain": [
       "[('원한', 0, None),\n",
       " ('질량 증가', 4, 3),\n",
       " ('안정된 상태', 4, None),\n",
       " ('돌격대장', 0, 2),\n",
       " ('예리한 둔기', 0, None)]"
      ]
     },
     "execution_count": 2,
     "metadata": {},
     "output_type": "execute_result"
    }
   ],
   "source": [
    "user_info.equip_engraving()"
   ]
  },
  {
   "cell_type": "code",
   "execution_count": 3,
   "metadata": {},
   "outputs": [
    {
     "data": {
      "text/plain": [
       "({'crit': 30, 'vel': 10, 'abl': 0},\n",
       " {'t2_1': 2, 't2_2': 0, 't2_3': 0, 't2_4': 1, 't2_5': 0},\n",
       " {'t3_1': 0, 't3_2': 2, 't3_3': 0, 't3_4': 0, 't3_5': 0},\n",
       " {'t4_1': 0, 't4_2': 0, 't4_3': 0, 't4_4': 2, 't4_5': 0})"
      ]
     },
     "execution_count": 3,
     "metadata": {},
     "output_type": "execute_result"
    }
   ],
   "source": [
    "user_info.equip_arkpassive()"
   ]
  },
  {
   "cell_type": "code",
   "execution_count": 4,
   "metadata": {},
   "outputs": [
    {
     "data": {
      "text/plain": [
       "{'피해 증가': [1.18, 1.2425, 1.17, 1.1976, 0.98],\n",
       " '공격력 증가 (%)': [],\n",
       " '공격력 증가 (+)': [],\n",
       " '무기공격력 증가 (%)': [],\n",
       " '무기공격력 증가 (+)': [],\n",
       " '치명타 적중률 증가': [],\n",
       " '치명타 피해 증가': [44],\n",
       " '치명타 시 피해 증가': [],\n",
       " '백어택': [],\n",
       " '헤드어택': [],\n",
       " '캐스팅': [],\n",
       " '차징': [],\n",
       " '쿨타임 감소': [],\n",
       " '진화형 피해': []}"
      ]
     },
     "execution_count": 4,
     "metadata": {},
     "output_type": "execute_result"
    }
   ],
   "source": [
    "import engrave\n",
    "engrave.engraving(user_info)"
   ]
  },
  {
   "cell_type": "code",
   "execution_count": 5,
   "metadata": {},
   "outputs": [
    {
     "data": {
      "text/plain": [
       "['추가피해+1.60%', '무기공격력+1.80%', '공격력+0.95%', '치명타적중률+0.95%', '치명타피해+2.40%']"
      ]
     },
     "execution_count": 5,
     "metadata": {},
     "output_type": "execute_result"
    }
   ],
   "source": [
    "import spec\n",
    "spec.accessory(user_info)"
   ]
  },
  {
   "cell_type": "code",
   "execution_count": 6,
   "metadata": {},
   "outputs": [
    {
     "data": {
      "text/plain": [
       "({'crit': 1569, 'vel': 572, 'abl': 70},\n",
       " {'진화형 피해': [10],\n",
       "  '쿨타임 감소_마나': [14],\n",
       "  '쿨타임 감소_지배': [0],\n",
       "  '백헤드 스킬 치명타 피해 증가': [],\n",
       "  '치명타 적중률 증가': [0]},\n",
       " {'진화형 피해': [0, 4, 0, 0],\n",
       "  '쿨타임 감소_마나': [0],\n",
       "  '쿨타임 감소_지배': [0],\n",
       "  '백헤드 스킬 치명타 피해 증가': [0],\n",
       "  '치명타 적중률 증가': [24, 0]},\n",
       " {'진화형 피해': [21.0], '뭉특한 가시': [False], '마나 용광로': [False], '음속 돌파': [False]})"
      ]
     },
     "execution_count": 6,
     "metadata": {},
     "output_type": "execute_result"
    }
   ],
   "source": [
    "import arkpassive\n",
    "ark = user_info.equip_arkpassive()\n",
    "\n",
    "arkpassive.Tier_1(ark[0]), arkpassive.Tier_2(ark[1]), arkpassive.Tier_3(ark[2]), arkpassive.Tier_4(ark[3])"
   ]
  },
  {
   "cell_type": "code",
   "execution_count": null,
   "metadata": {},
   "outputs": [],
   "source": []
  }
 ],
 "metadata": {
  "kernelspec": {
   "display_name": "Python 3",
   "language": "python",
   "name": "python3"
  },
  "language_info": {
   "codemirror_mode": {
    "name": "ipython",
    "version": 3
   },
   "file_extension": ".py",
   "mimetype": "text/x-python",
   "name": "python",
   "nbconvert_exporter": "python",
   "pygments_lexer": "ipython3",
   "version": "3.12.4"
  }
 },
 "nbformat": 4,
 "nbformat_minor": 2
}

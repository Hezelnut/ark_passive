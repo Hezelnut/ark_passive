{
 "cells": [
  {
   "cell_type": "code",
   "execution_count": 1,
   "metadata": {},
   "outputs": [],
   "source": [
    "from player_load import equip, process\n",
    "from engrave import engraving\n",
    "from spec import transcendence,elixer,accessory, stat, armlet\n",
    "from arkpassive import load_evolve, load_enlight, load_jump\n",
    "import math"
   ]
  },
  {
   "cell_type": "code",
   "execution_count": 2,
   "metadata": {},
   "outputs": [],
   "source": [
    "user_info = equip('그늘을벼려낸칼날')\n",
    "user_info.equipment()\n",
    "\n",
    "# api response 기능을 세 번만 사용하도록\n",
    "arm, eng, ark = user_info.equipment()\n",
    "\n",
    "equip_process = process(arm)\n",
    "engrave_process = process(eng)\n",
    "ark_process = process(ark)"
   ]
  },
  {
   "cell_type": "code",
   "execution_count": 3,
   "metadata": {},
   "outputs": [
    {
     "data": {
      "text/plain": [
       "({'치명': 1569, '신속': 572, '특화': 70},\n",
       " {'진화형 피해': [5],\n",
       "  '쿨타임 감소_마나': [14],\n",
       "  '쿨타임 감소_지배': [0],\n",
       "  '백헤드 스킬 치명타 피해 증가': [],\n",
       "  '치명타 적중률 증가': [4]},\n",
       " {'진화형 피해': [0, 4, 0, 0],\n",
       "  '쿨타임 감소_마나': [0],\n",
       "  '쿨타임 감소_지배': [0],\n",
       "  '백헤드 스킬 치명타 피해 증가': [0],\n",
       "  '치명타 적중률 증가': [24, 0]},\n",
       " {'진화형 피해': [0.0], '뭉툭한 가시': [True], '마나 용광로': [False], '음속 돌파': [False]})"
      ]
     },
     "execution_count": 3,
     "metadata": {},
     "output_type": "execute_result"
    }
   ],
   "source": [
    "load_evolve(ark_process).Tier_all()"
   ]
  },
  {
   "cell_type": "code",
   "execution_count": 4,
   "metadata": {},
   "outputs": [
    {
     "data": {
      "text/plain": [
       "([['그믐의 경계', '3']],\n",
       " [['죽음 연마', '3']],\n",
       " [['허물어진 경계', '3'], ['영혼 강화', '1']],\n",
       " [['영혼 참수', '3']])"
      ]
     },
     "execution_count": 4,
     "metadata": {},
     "output_type": "execute_result"
    }
   ],
   "source": [
    "load_enlight(ark_process).ark_enlight()"
   ]
  },
  {
   "cell_type": "code",
   "execution_count": 5,
   "metadata": {},
   "outputs": [
    {
     "data": {
      "text/plain": [
       "([['풀려난 힘', '5'], ['잠재력 해방', '5']], [['심판', '3']])"
      ]
     },
     "execution_count": 5,
     "metadata": {},
     "output_type": "execute_result"
    }
   ],
   "source": [
    "load_jump(ark_process).ark_jump()"
   ]
  },
  {
   "cell_type": "code",
   "execution_count": 6,
   "metadata": {},
   "outputs": [],
   "source": [
    "# equip_process.equip_armlet()['Element_004']['value']['Element_001'].lower().replace(\"<fontcolor='#99ff99'>\",'').replace(\"<fontcolor='#ff9999'>\",'').replace(\"</font>\",'').replace(\"</img>\",'[]').replace(\"<br>\",'[]').split('[]')"
   ]
  },
  {
   "cell_type": "code",
   "execution_count": 7,
   "metadata": {},
   "outputs": [],
   "source": [
    "# equip_process.equip_armlet()['Element_007']['value']['Element_001']"
   ]
  },
  {
   "cell_type": "code",
   "execution_count": 8,
   "metadata": {},
   "outputs": [
    {
     "data": {
      "text/plain": [
       "['도약+18',\n",
       " '치명+90',\n",
       " '신속+63',\n",
       " '추가피해+3.00%',\n",
       " '무기공격력이6900증가한다.',\n",
       " '공격적중시30초마다120초동안무기공격력이130증가한다.(최대30중첩)',\n",
       " '추가피해가3%증가한다.',\n",
       " '악마및대악마계열피해량이2.5%증가한다.']"
      ]
     },
     "execution_count": 8,
     "metadata": {},
     "output_type": "execute_result"
    }
   ],
   "source": [
    "armlet(equip_process) "
   ]
  },
  {
   "cell_type": "code",
   "execution_count": 11,
   "metadata": {},
   "outputs": [
    {
     "name": "stdout",
     "output_type": "stream",
     "text": [
      "최대 생명력  :  312152\n",
      "공격력  :  122006\n"
     ]
    },
    {
     "data": {
      "text/plain": [
       "{'피해 증가': 1.5381067207576933,\n",
       " '추가 피해': 39.2,\n",
       " '공격력 증가 (%)': 2.894,\n",
       " '공격력 증가 (+)': 6390,\n",
       " '기본 공격력 증가 (%)': 1.015,\n",
       " '무기공격력 증가 (%)': 4.8,\n",
       " '무기공격력 증가 (+)': 128163,\n",
       " '스탯 증가 (%)': 0,\n",
       " '스탯 증가 (+)': 396367,\n",
       " '치명타 적중률 증가': 25.536,\n",
       " '치명타 피해 증가': 61.4,\n",
       " '치명타 시 피해 증가': 0,\n",
       " '백어택': 1.1898571428571427,\n",
       " '헤드어택': 0,\n",
       " '비방향성': 0,\n",
       " '캐스팅': 0,\n",
       " '차징': 0,\n",
       " '쿨타임 감소': 0,\n",
       " '진화형 피해': 0,\n",
       " '물리 방어력': 40529,\n",
       " '마법 방어력': 40529,\n",
       " '체력': 76535,\n",
       " '최대 생명력': 13330,\n",
       " '생명력 활성': 1.4862857142857142}"
      ]
     },
     "execution_count": 11,
     "metadata": {},
     "output_type": "execute_result"
    }
   ],
   "source": [
    "def stat_all(user_name='절정하는창술누나'):\n",
    "    user_info = equip(user_name)\n",
    "    arm, eng, ark = user_info.equipment()\n",
    "    equip_process = process(arm)\n",
    "    engrave_process = process(eng)\n",
    "    ark_process = process(ark)\n",
    "\n",
    "    form = {'피해 증가':[],\n",
    "        '추가 피해':[],\n",
    "        '공격력 증가 (%)':[],\n",
    "        '공격력 증가 (+)':[],\n",
    "        '기본 공격력 증가 (%)':[],\n",
    "        '무기공격력 증가 (%)':[],\n",
    "        '무기공격력 증가 (+)':[],\n",
    "        '스탯 증가 (%)':[],\n",
    "        '스탯 증가 (+)':[],\n",
    "        '치명타 적중률 증가':[],\n",
    "        '치명타 피해 증가':[],\n",
    "        '치명타 시 피해 증가':[],\n",
    "        '백어택':[],\n",
    "        '헤드어택':[],        \n",
    "        '비방향성':[],\n",
    "        '캐스팅':[],\n",
    "        '차징':[],\n",
    "        '쿨타임 감소':[],\n",
    "        '진화형 피해':[],\n",
    "        '물리 방어력':[],\n",
    "        '마법 방어력':[],\n",
    "        '체력':[],\n",
    "        '최대 생명력':[],\n",
    "        '생명력 활성':[]\n",
    "        }\n",
    "    \n",
    "    sum_stat = stat(equip_process)\n",
    "    sum_acc = accessory(equip_process)\n",
    "    sum_eli = elixer(equip_process)\n",
    "    sum_tra, _ = transcendence(equip_process)\n",
    "    sum_eng = engraving(engrave_process)\n",
    "    # sum_arm = armlet(equip_process)\n",
    "    load_enlight(ark_process).ark_enlight()\n",
    "    load_evolve(ark_process).Tier_all()\n",
    "    load_jump(ark_process).ark_jump()\n",
    "\n",
    "    list_sum = [sum_tra,sum_acc,sum_eli,sum_eng,sum_stat]\n",
    "    for l in list_sum:\n",
    "        for k in list(form.keys()):\n",
    "            form[k].extend(l[k])\n",
    "\n",
    "    form_output = dict()\n",
    "    form_a = math.prod(form['피해 증가'])\n",
    "    form_output['피해 증가'] = form_a\n",
    "\n",
    "    for m in form.keys():\n",
    "        if m != '피해 증가':\n",
    "            form_output[m] = sum(form[m])\n",
    "    \n",
    "    stat_api = user_info.profile()['Stats']\n",
    "    for s in stat_api:\n",
    "        if s['Type'] in ['공격력','최대 생명력']:\n",
    "            print(s['Type'],' : ',s['Value'])\n",
    "\n",
    "    return form_output\n",
    "\n",
    "stat_all('로카텀B') "
   ]
  },
  {
   "cell_type": "markdown",
   "metadata": {},
   "source": [
    "- 로아 피통계산법 (체력*체력계수+최생)*생명활성*(펫효과+만찬추가생명력)"
   ]
  },
  {
   "cell_type": "code",
   "execution_count": 10,
   "metadata": {},
   "outputs": [
    {
     "data": {
      "text/plain": [
       "1.061904761904762"
      ]
     },
     "execution_count": 10,
     "metadata": {},
     "output_type": "execute_result"
    }
   ],
   "source": [
    "1.115/1.05"
   ]
  },
  {
   "cell_type": "code",
   "execution_count": 13,
   "metadata": {},
   "outputs": [],
   "source": [
    "skill, gem = user_info.skill_and_gem()"
   ]
  },
  {
   "cell_type": "code",
   "execution_count": 17,
   "metadata": {},
   "outputs": [
    {
     "data": {
      "text/plain": [
       "\"<FONT COLOR='#B7FB00'>기본 공격력 총합 : 7.20%</FONT>\""
      ]
     },
     "execution_count": 17,
     "metadata": {},
     "output_type": "execute_result"
    }
   ],
   "source": [
    "gem['Effects']['Description']"
   ]
  },
  {
   "cell_type": "code",
   "execution_count": null,
   "metadata": {},
   "outputs": [],
   "source": [
    "gem_list = list()\n",
    "\n",
    "for g in gem['Effects']['Skills']:\n",
    "    gem_list.append(g['Name'])\n",
    "\n",
    "gem_list = list(set(gem_list))\n",
    "\n",
    "gem_dict = dict()\n",
    "for g in gem_list:\n",
    "    gem_dict[g]=[]\n",
    "\n",
    "for g in gem['Effects']['Skills']:\n",
    "    gem_dict[g['Name']].extend(g['Description'])"
   ]
  },
  {
   "cell_type": "code",
   "execution_count": 41,
   "metadata": {},
   "outputs": [
    {
     "data": {
      "text/plain": [
       "{'리탈 스피닝': ['피해 36.00% 증가', '재사용 대기시간 18.00% 감소'],\n",
       " '스레싱': ['피해 36.00% 증가', '재사용 대기시간 18.00% 감소'],\n",
       " '루나틱 엣지': ['재사용 대기시간 18.00% 감소'],\n",
       " '베스티지': ['피해 36.00% 증가', '재사용 대기시간 18.00% 감소'],\n",
       " '길로틴 스윙': ['피해 40.00% 증가', '재사용 대기시간 20.00% 감소'],\n",
       " '소울 시너스': ['피해 36.00% 증가', '재사용 대기시간 20.00% 감소']}"
      ]
     },
     "execution_count": 41,
     "metadata": {},
     "output_type": "execute_result"
    }
   ],
   "source": [
    "gem_name = [x['Name'] for x in gem['Effects']['Skills']]\n",
    "gem_name = list(set(gem_name))\n",
    "\n",
    "gem_dict = dict()\n",
    "\n",
    "for g in gem_name:\n",
    "    gem_decription = [x['Description'][0] for x in gem['Effects']['Skills'] if x['Name']==g]\n",
    "    gem_dict[g] = gem_decription\n",
    "\n",
    "gem_dict"
   ]
  },
  {
   "cell_type": "code",
   "execution_count": 23,
   "metadata": {},
   "outputs": [
    {
     "data": {
      "text/plain": [
       "{'루나틱 엣지': ['재사용 대기시간 18.00% 감소'],\n",
       " '스레싱': ['피해 36.00% 증가', '재사용 대기시간 18.00% 감소'],\n",
       " '리탈 스피닝': ['피해 36.00% 증가', '재사용 대기시간 18.00% 감소'],\n",
       " '소울 시너스': ['피해 36.00% 증가', '재사용 대기시간 20.00% 감소'],\n",
       " '길로틴 스윙': ['피해 40.00% 증가', '재사용 대기시간 20.00% 감소'],\n",
       " '베스티지': ['피해 36.00% 증가', '재사용 대기시간 18.00% 감소']}"
      ]
     },
     "execution_count": 23,
     "metadata": {},
     "output_type": "execute_result"
    }
   ],
   "source": [
    "gem_dict"
   ]
  },
  {
   "cell_type": "code",
   "execution_count": null,
   "metadata": {},
   "outputs": [],
   "source": []
  }
 ],
 "metadata": {
  "kernelspec": {
   "display_name": "Python 3",
   "language": "python",
   "name": "python3"
  },
  "language_info": {
   "codemirror_mode": {
    "name": "ipython",
    "version": 3
   },
   "file_extension": ".py",
   "mimetype": "text/x-python",
   "name": "python",
   "nbconvert_exporter": "python",
   "pygments_lexer": "ipython3",
   "version": "3.13.0"
  }
 },
 "nbformat": 4,
 "nbformat_minor": 2
}
